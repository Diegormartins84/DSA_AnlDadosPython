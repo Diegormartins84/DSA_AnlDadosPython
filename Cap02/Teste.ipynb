{
 "cells": [
  {
   "cell_type": "code",
   "execution_count": 1,
   "id": "a46b7bd7-2b07-4111-b8f8-2844a3345832",
   "metadata": {},
   "outputs": [
    {
     "data": {
      "text/plain": [
       "4"
      ]
     },
     "execution_count": 1,
     "metadata": {},
     "output_type": "execute_result"
    }
   ],
   "source": [
    "2+2"
   ]
  },
  {
   "cell_type": "code",
   "execution_count": 2,
   "id": "2f1e088f-7b3e-4e86-a168-fa2b241a731a",
   "metadata": {},
   "outputs": [
    {
     "name": "stdout",
     "output_type": "stream",
     "text": [
      "olá mundo\n"
     ]
    }
   ],
   "source": [
    "print ('olá mundo')"
   ]
  },
  {
   "cell_type": "code",
   "execution_count": null,
   "id": "2ca5cc4e-43a2-4bfc-b182-51ed67d468ba",
   "metadata": {},
   "outputs": [],
   "source": [
    "Gere um codigo python que crie uma lista com os números entre 1 e 100 e então imprima os números pares , mas somente se o número for divisível por 4 "
   ]
  },
  {
   "cell_type": "code",
   "execution_count": 2,
   "id": "3969f9e5-2a3d-4294-9b9b-489569f52abf",
   "metadata": {},
   "outputs": [],
   "source": [
    "# Cria uma lista com números entre 1 e 100\n",
    "numeros = list(range(1, 101))"
   ]
  },
  {
   "cell_type": "code",
   "execution_count": 3,
   "id": "d344f1eb-9caf-4678-afbb-2428de66e9d7",
   "metadata": {},
   "outputs": [
    {
     "data": {
      "text/plain": [
       "list"
      ]
     },
     "execution_count": 3,
     "metadata": {},
     "output_type": "execute_result"
    }
   ],
   "source": [
    "type (numeros)"
   ]
  },
  {
   "cell_type": "code",
   "execution_count": 4,
   "id": "4bd3ba96-001f-4f47-84c3-c802b1ce071a",
   "metadata": {},
   "outputs": [
    {
     "name": "stdout",
     "output_type": "stream",
     "text": [
      "4\n",
      "8\n",
      "12\n",
      "16\n",
      "20\n",
      "24\n",
      "28\n",
      "32\n",
      "36\n",
      "40\n",
      "44\n",
      "48\n",
      "52\n",
      "56\n",
      "60\n",
      "64\n",
      "68\n",
      "72\n",
      "76\n",
      "80\n",
      "84\n",
      "88\n",
      "92\n",
      "96\n",
      "100\n"
     ]
    }
   ],
   "source": [
    "# percorre a lista e verifica se o número é par e divisível por 4\n",
    "for numero in numeros:\n",
    "    if numero % 2 == 0 and numero % 4 == 0:\n",
    "        print(numero)"
   ]
  },
  {
   "cell_type": "markdown",
   "id": "74ee67bf-a62e-4d67-9589-81cd7c2f0dd4",
   "metadata": {},
   "source": [
    "gere um código python que crie uma lista com números entre 1 e 100 e então imprima os números pares, mas somente se o número foi divisível por 4, usando list comprehension "
   ]
  },
  {
   "cell_type": "code",
   "execution_count": 7,
   "id": "dc4218a1-bcbd-464f-8d15-dfa03b351d2c",
   "metadata": {},
   "outputs": [
    {
     "name": "stdout",
     "output_type": "stream",
     "text": [
      "[4, 8, 12, 16, 20, 24, 28, 32, 36, 40, 44, 48, 52, 56, 60, 64, 68, 72, 76, 80, 84, 88, 92, 96, 100]\n"
     ]
    }
   ],
   "source": [
    "# Cria uma lista com números entre 1 e 100\n",
    "numeros_pares_divisiveis_por_4 = [numero for numero in range(1, 101) if numero % 2 == 0 and numero % 4 == 0]\n",
    "# Use a list comprehention para gerar uma lista somente com os números pares e divisíveis por 4\n",
    "\n",
    "print(numeros_pares_divisiveis_por_4)"
   ]
  },
  {
   "cell_type": "code",
   "execution_count": null,
   "id": "0213394e-d83c-4f61-85b6-0f273972b165",
   "metadata": {},
   "outputs": [],
   "source": []
  }
 ],
 "metadata": {
  "kernelspec": {
   "display_name": "Python 3 (ipykernel)",
   "language": "python",
   "name": "python3"
  },
  "language_info": {
   "codemirror_mode": {
    "name": "ipython",
    "version": 3
   },
   "file_extension": ".py",
   "mimetype": "text/x-python",
   "name": "python",
   "nbconvert_exporter": "python",
   "pygments_lexer": "ipython3",
   "version": "3.11.4"
  }
 },
 "nbformat": 4,
 "nbformat_minor": 5
}
