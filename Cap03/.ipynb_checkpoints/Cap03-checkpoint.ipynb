{
 "cells": [
  {
   "cell_type": "markdown",
   "id": "0b70c754-9bb0-4ffa-8651-7c2f6ec07b31",
   "metadata": {},
   "source": [
    "# <font color='blue'>Data Science Academy</font>\n",
    "\n",
    "## <font color='blue'>Fundamentos de Linguagem Python Para Análise de Dados e Data Science</font>\n",
    "\n",
    "## <font color='blue'>Capítulo 3 - Introdução à Lógica de Programação</font>"
   ]
  },
  {
   "cell_type": "code",
   "execution_count": null,
   "id": "1af6455c-4f71-43a2-829c-3b1d673559ab",
   "metadata": {},
   "outputs": [],
   "source": [
    "# Versão da Linguagem Python\n",
    "from platform import python_version\n",
    "print('Versão da Linguagem Python Usada Neste Jupyter Notebook:', python_version())"
   ]
  },
  {
   "cell_type": "markdown",
   "id": "9143b25a-7143-41a8-a144-1fc0013851ad",
   "metadata": {},
   "source": [
    "## Pseudocódigo 1 - Calcular a Área de Um Paralelograma\n",
    "\n",
    "Nota: Um paralelogramo é um quadrilátero com lados opostos paralelos (e portanto ângulos opostos iguais). Um quadrilátero com lados iguais é chamado de losango e um paralelogramo cujos ângulos são todos ângulos retos é chamado de retângulo."
   ]
  },
  {
   "cell_type": "markdown",
   "id": "9b3c2f2d-e148-459f-83fc-8c16b9c942d7",
   "metadata": {},
   "source": [
    "Inicie\n",
    "    \n",
    "    Exiba \"Bem-vindo ao Calculador de Área de Paralelogramo\"\n",
    "    Peça para o usuário inserir o comprimento da base\n",
    "    Armazene o comprimento da base em uma variável\n",
    "    Peça para o usuário inserir a altura\n",
    "    Armazene a altura em uma variável\n",
    "    Calcule a área do paralelogramo:  base * altura\n",
    "    Armazene o resultado em uma variável\n",
    "    Exiba o resultado\n",
    "    \n",
    "Fim\n"
   ]
  },
  {
   "cell_type": "code",
   "execution_count": 1,
   "id": "3cb8799c-8756-4652-b621-bbbd3404ea1b",
   "metadata": {},
   "outputs": [
    {
     "name": "stdout",
     "output_type": "stream",
     "text": [
      "Bem-vindo ao Calculador de Área de Paralelogramo\n"
     ]
    }
   ],
   "source": [
    "print ('Bem-vindo ao Calculador de Área de Paralelogramo')"
   ]
  },
  {
   "cell_type": "code",
   "execution_count": 3,
   "id": "a6d4df6f-4584-46e3-8a7b-f2941b229c5b",
   "metadata": {},
   "outputs": [
    {
     "name": "stdin",
     "output_type": "stream",
     "text": [
      "Insera o comprimento da base:  123\n"
     ]
    }
   ],
   "source": [
    "base = float(input(\"Insira o comprimento da base: \"))"
   ]
  },
  {
   "cell_type": "code",
   "execution_count": 4,
   "id": "7b4c3386-07ed-4388-ab9a-89cbfcb4f426",
   "metadata": {},
   "outputs": [
    {
     "name": "stdin",
     "output_type": "stream",
     "text": [
      "Insira a altura:  222\n"
     ]
    }
   ],
   "source": [
    "altura = float(input(\"Insira a altura: \"))"
   ]
  },
  {
   "cell_type": "code",
   "execution_count": 5,
   "id": "bd61cd26-30ae-4f57-a377-88df19777cad",
   "metadata": {},
   "outputs": [],
   "source": [
    "area = base * altura"
   ]
  },
  {
   "cell_type": "code",
   "execution_count": 10,
   "id": "0b1dcb2d-a034-4209-ae4f-8eca52b9d5c6",
   "metadata": {},
   "outputs": [
    {
     "name": "stdout",
     "output_type": "stream",
     "text": [
      "A área do paralelogramo é:  27306.0\n"
     ]
    }
   ],
   "source": [
    "print (\"A área do paralelogramo é: \",area)"
   ]
  },
  {
   "cell_type": "markdown",
   "id": "4305f959-dd71-4aae-a607-ac5c7f410db0",
   "metadata": {},
   "source": [
    "## Pseudocódigo 2 - Calculadora Simples"
   ]
  },
  {
   "cell_type": "markdown",
   "id": "196a7e8a-9939-4789-b728-de89d10b7fc8",
   "metadata": {},
   "source": [
    "\n",
    "Inicie\n",
    "\n",
    "    Exiba \"Bem-vindo à Calculadora\"\n",
    "    Peça para o usuário inserir o primeiro número\n",
    "    Armazene o primeiro número em uma variável\n",
    "    Peça para o usuário inserir o segundo número\n",
    "    Armazene o segundo número em uma variável\n",
    "    Peça para o usuário selecionar uma operação (+, -, *, /)\n",
    "    Armazene a operação em uma variável\n",
    "    Utilize a operação selecionada e os números armazenados para realizar o cálculo\n",
    "    Exiba o resultado\n",
    "\n",
    "Fim\n"
   ]
  },
  {
   "cell_type": "markdown",
   "id": "aabe4e88-2953-4b0f-b3cc-c03e3a81aba3",
   "metadata": {},
   "source": [
    "## Convertendo o Pseudocódigo 2 em Programa Python"
   ]
  },
  {
   "cell_type": "code",
   "execution_count": 2,
   "id": "f6fff0ca-25ef-42a4-a75a-e77fe6412485",
   "metadata": {},
   "outputs": [
    {
     "name": "stdout",
     "output_type": "stream",
     "text": [
      "Bem-vindo à Calculadora\n"
     ]
    }
   ],
   "source": [
    "print (\"Bem-vindo à Calculadora\")"
   ]
  },
  {
   "cell_type": "code",
   "execution_count": 3,
   "id": "aa76fd0d-dfe5-4164-89fc-722c34e097b7",
   "metadata": {},
   "outputs": [
    {
     "name": "stdin",
     "output_type": "stream",
     "text": [
      "Insira o primeiro número 3\n"
     ]
    }
   ],
   "source": [
    "num1 = float(input(\"Insira o primeiro número\"))"
   ]
  },
  {
   "cell_type": "code",
   "execution_count": 4,
   "id": "a7f2c87d-ad1c-47c5-9c93-c189e0d3bcac",
   "metadata": {},
   "outputs": [
    {
     "name": "stdin",
     "output_type": "stream",
     "text": [
      "Insiro o segundo número 2\n"
     ]
    }
   ],
   "source": [
    "num2 = float(input(\"Insiro o segundo número\"))"
   ]
  },
  {
   "cell_type": "code",
   "execution_count": 5,
   "id": "7b45132c-6e0b-4dc6-875d-f6860acbe6fb",
   "metadata": {},
   "outputs": [
    {
     "name": "stdin",
     "output_type": "stream",
     "text": [
      "Selecione uma operação (+, -, *, /):  +\n"
     ]
    }
   ],
   "source": [
    "operacao = input(\"Selecione uma operação (+, -, *, /): \")"
   ]
  },
  {
   "cell_type": "code",
   "execution_count": 8,
   "id": "eec1934a-b20f-46e2-b6cf-c4e8eabd9c0d",
   "metadata": {},
   "outputs": [
    {
     "name": "stdout",
     "output_type": "stream",
     "text": [
      "Resultado:  5.0\n"
     ]
    }
   ],
   "source": [
    "if operacao == '+':\n",
    "    resultado = num1 + num2\n",
    "elif operacao == '-':\n",
    "    resultado = num1 - um2\n",
    "elif operacao == '*':\n",
    "    resultado = num1 * num2\n",
    "elif operacao == '/':\n",
    "    if num2 != 0:\n",
    "        resultado = num1 / num2\n",
    "    else:\n",
    "        resultado = 'Erro: divisão por zero'\n",
    "else:\n",
    "    resultado = 'Operação inválida'\n",
    "    \n",
    "print ('Resultado: ', resultado)\n"
   ]
  },
  {
   "cell_type": "code",
   "execution_count": null,
   "id": "14d8077f-4351-4517-96a9-1991720a83ea",
   "metadata": {},
   "outputs": [],
   "source": []
  }
 ],
 "metadata": {
  "kernelspec": {
   "display_name": "Python 3 (ipykernel)",
   "language": "python",
   "name": "python3"
  },
  "language_info": {
   "codemirror_mode": {
    "name": "ipython",
    "version": 3
   },
   "file_extension": ".py",
   "mimetype": "text/x-python",
   "name": "python",
   "nbconvert_exporter": "python",
   "pygments_lexer": "ipython3",
   "version": "3.11.4"
  }
 },
 "nbformat": 4,
 "nbformat_minor": 5
}
